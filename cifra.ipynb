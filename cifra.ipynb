{
 "cells": [
  {
   "cell_type": "code",
   "execution_count": 1,
   "id": "1296e034",
   "metadata": {},
   "outputs": [],
   "source": [
    "import random"
   ]
  },
  {
   "cell_type": "code",
   "execution_count": 2,
   "id": "146e9dc6",
   "metadata": {},
   "outputs": [],
   "source": [
    "listaPrimos = []\n",
    "\n",
    "for x in range(2, 5000):\n",
    "    qtde = 0 \n",
    "    for y in range(1, x +1):\n",
    "        if x % y == 0:\n",
    "            qtde = qtde + 1 \n",
    "            \n",
    "    if qtde < 3:\n",
    "        listaPrimos.append(x)\n",
    "     "
   ]
  },
  {
   "cell_type": "code",
   "execution_count": 3,
   "id": "17577fe0",
   "metadata": {},
   "outputs": [
    {
     "data": {
      "text/plain": [
       "1356557"
      ]
     },
     "execution_count": 3,
     "metadata": {},
     "output_type": "execute_result"
    }
   ],
   "source": [
    "p = random.choice(listaPrimos)\n",
    "q = random.choice(listaPrimos)\n",
    "N = p * q\n",
    "N"
   ]
  },
  {
   "cell_type": "code",
   "execution_count": 4,
   "id": "4d4888a1",
   "metadata": {},
   "outputs": [
    {
     "data": {
      "text/plain": [
       "1353660"
      ]
     },
     "execution_count": 4,
     "metadata": {},
     "output_type": "execute_result"
    }
   ],
   "source": [
    "phiN = (p-1) * (q-1)\n",
    "phiN"
   ]
  },
  {
   "cell_type": "code",
   "execution_count": 5,
   "id": "2d6c67c0",
   "metadata": {},
   "outputs": [],
   "source": [
    "def gcd(a, b):\n",
    "    \"\"\"\n",
    "    Retorna o MDC (máximo divisor comum) de a e b usando o algoritmo de Euclides.\n",
    "    \"\"\"\n",
    "    if b == 0:\n",
    "        return a\n",
    "    else:\n",
    "        return gcd(b, a % b)\n",
    "\n",
    "def are_coprime(a, b):\n",
    "    \"\"\"\n",
    "    Verifica se a e b são primos entre si.\n",
    "    \"\"\"\n",
    "    return gcd(a, b) == 1"
   ]
  },
  {
   "cell_type": "code",
   "execution_count": 9,
   "id": "cb7644e0",
   "metadata": {},
   "outputs": [],
   "source": [
    "validador = 0\n",
    "\n",
    "while(validador == 0):\n",
    "    e = random.randint(1, phiN)\n",
    "    \n",
    "\n",
    "    if are_coprime(e, phiN) == 1 and e != phiN:\n",
    "        validador = 1"
   ]
  },
  {
   "cell_type": "code",
   "execution_count": null,
   "id": "e58f9060",
   "metadata": {},
   "outputs": [],
   "source": [
    "d = 0\n",
    "while((e * d * phiN) != 1):\n",
    "    d = random.randint(e - phiN , e + phiN)\n",
    "d"
   ]
  },
  {
   "cell_type": "code",
   "execution_count": null,
   "id": "528a7ceb",
   "metadata": {},
   "outputs": [],
   "source": []
  }
 ],
 "metadata": {
  "kernelspec": {
   "display_name": "Python 3 (ipykernel)",
   "language": "python",
   "name": "python3"
  },
  "language_info": {
   "codemirror_mode": {
    "name": "ipython",
    "version": 3
   },
   "file_extension": ".py",
   "mimetype": "text/x-python",
   "name": "python",
   "nbconvert_exporter": "python",
   "pygments_lexer": "ipython3",
   "version": "3.9.13"
  }
 },
 "nbformat": 4,
 "nbformat_minor": 5
}

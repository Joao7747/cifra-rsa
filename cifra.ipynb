{
 "cells": [
  {
   "cell_type": "code",
   "execution_count": 9,
   "id": "1296e034",
   "metadata": {},
   "outputs": [],
   "source": [
    "import random"
   ]
  },
  {
   "cell_type": "code",
   "execution_count": 10,
   "id": "146e9dc6",
   "metadata": {},
   "outputs": [
    {
     "ename": "OverflowError",
     "evalue": "int too large to convert to float",
     "output_type": "error",
     "traceback": [
      "\u001b[1;31m---------------------------------------------------------------------------\u001b[0m",
      "\u001b[1;31mOverflowError\u001b[0m                             Traceback (most recent call last)",
      "\u001b[1;32m~\\AppData\\Local\\Temp\\ipykernel_6160\\1217093351.py\u001b[0m in \u001b[0;36m<module>\u001b[1;34m\u001b[0m\n\u001b[0;32m     35\u001b[0m \u001b[1;33m\u001b[0m\u001b[0m\n\u001b[0;32m     36\u001b[0m \u001b[1;32mfor\u001b[0m \u001b[0mx\u001b[0m \u001b[1;32min\u001b[0m \u001b[0mrange\u001b[0m\u001b[1;33m(\u001b[0m\u001b[0mmin_val\u001b[0m\u001b[1;33m,\u001b[0m \u001b[0mmax_val\u001b[0m\u001b[1;33m)\u001b[0m\u001b[1;33m:\u001b[0m\u001b[1;33m\u001b[0m\u001b[1;33m\u001b[0m\u001b[0m\n\u001b[1;32m---> 37\u001b[1;33m     \u001b[1;32mif\u001b[0m \u001b[0mis_prime\u001b[0m\u001b[1;33m(\u001b[0m\u001b[0mx\u001b[0m\u001b[1;33m)\u001b[0m\u001b[1;33m:\u001b[0m\u001b[1;33m\u001b[0m\u001b[1;33m\u001b[0m\u001b[0m\n\u001b[0m\u001b[0;32m     38\u001b[0m         \u001b[0mlistaPrimos\u001b[0m\u001b[1;33m.\u001b[0m\u001b[0mappend\u001b[0m\u001b[1;33m(\u001b[0m\u001b[0mx\u001b[0m\u001b[1;33m)\u001b[0m\u001b[1;33m\u001b[0m\u001b[1;33m\u001b[0m\u001b[0m\n\u001b[0;32m     39\u001b[0m         \u001b[1;32mif\u001b[0m \u001b[0mlen\u001b[0m\u001b[1;33m(\u001b[0m\u001b[0mlistaPrimos\u001b[0m\u001b[1;33m)\u001b[0m \u001b[1;33m==\u001b[0m \u001b[0mmarcacao\u001b[0m\u001b[1;33m:\u001b[0m\u001b[1;33m\u001b[0m\u001b[1;33m\u001b[0m\u001b[0m\n",
      "\u001b[1;32m~\\AppData\\Local\\Temp\\ipykernel_6160\\1217093351.py\u001b[0m in \u001b[0;36mis_prime\u001b[1;34m(number)\u001b[0m\n\u001b[0;32m     12\u001b[0m     \u001b[1;32mif\u001b[0m \u001b[0mnumber\u001b[0m \u001b[1;33m<\u001b[0m \u001b[1;36m2\u001b[0m\u001b[1;33m:\u001b[0m\u001b[1;33m\u001b[0m\u001b[1;33m\u001b[0m\u001b[0m\n\u001b[0;32m     13\u001b[0m         \u001b[1;32mreturn\u001b[0m \u001b[1;32mFalse\u001b[0m\u001b[1;33m\u001b[0m\u001b[1;33m\u001b[0m\u001b[0m\n\u001b[1;32m---> 14\u001b[1;33m     \u001b[1;32mfor\u001b[0m \u001b[0mi\u001b[0m \u001b[1;32min\u001b[0m \u001b[0mrange\u001b[0m\u001b[1;33m(\u001b[0m\u001b[1;36m2\u001b[0m\u001b[1;33m,\u001b[0m \u001b[0mfloat\u001b[0m\u001b[1;33m(\u001b[0m\u001b[0mnumber\u001b[0m \u001b[1;33m**\u001b[0m \u001b[1;36m0.5\u001b[0m\u001b[1;33m)\u001b[0m \u001b[1;33m+\u001b[0m \u001b[1;36m1\u001b[0m\u001b[1;33m)\u001b[0m\u001b[1;33m:\u001b[0m\u001b[1;33m\u001b[0m\u001b[1;33m\u001b[0m\u001b[0m\n\u001b[0m\u001b[0;32m     15\u001b[0m         \u001b[1;32mif\u001b[0m \u001b[0mnumber\u001b[0m \u001b[1;33m%\u001b[0m \u001b[0mi\u001b[0m \u001b[1;33m==\u001b[0m \u001b[1;36m0\u001b[0m\u001b[1;33m:\u001b[0m\u001b[1;33m\u001b[0m\u001b[1;33m\u001b[0m\u001b[0m\n\u001b[0;32m     16\u001b[0m             \u001b[1;32mreturn\u001b[0m \u001b[1;32mFalse\u001b[0m\u001b[1;33m\u001b[0m\u001b[1;33m\u001b[0m\u001b[0m\n",
      "\u001b[1;31mOverflowError\u001b[0m: int too large to convert to float"
     ]
    }
   ],
   "source": [
    "min_val = 2 ** 4095 \n",
    "max_val = (2**4096)  - 1 \n",
    "\n",
    "marcacao = 10;\n",
    "\n",
    "listaPrimos = []\n",
    "\n",
    "def is_prime(number):\n",
    "    \"\"\"\n",
    "    Verifica se o número é primo ou não.\n",
    "    \"\"\"\n",
    "    if number < 2:\n",
    "        return False\n",
    "    for i in range(2, float(number ** 0.5) + 1):\n",
    "        if number % i == 0:\n",
    "            return False\n",
    "    return True\n",
    "\n",
    "def gcd(a, b):\n",
    "    \"\"\"\n",
    "    Retorna o MDC (máximo divisor comum) de a e b usando o algoritmo de Euclides.\n",
    "    \"\"\"\n",
    "    if b == 0:\n",
    "        return a\n",
    "    else:\n",
    "        return gcd(b, a % b)\n",
    "    \n",
    "\n",
    "def are_coprime(a, b):\n",
    "    \"\"\"\n",
    "    Verifica se a e b são primos entre si.\n",
    "    \"\"\"\n",
    "    return gcd(a, b) == 1\n",
    "\n",
    "\n",
    "for x in range(min_val, max_val):\n",
    "    if is_prime(x):\n",
    "        listaPrimos.append(x)\n",
    "        if len(listaPrimos) == marcacao:\n",
    "            break\n",
    "p = random.choice(listaPrimos)\n",
    "q = random.choice(listaPrimos)\n",
    "N = p * q\n",
    "\n",
    "phiN = (p-1) * (q-1)\n",
    "\n",
    "validador = 0\n",
    "\n",
    "while(validador == 0):\n",
    "    e = random.randint(1, phiN)\n",
    "    \n",
    "\n",
    "    if are_coprime(e, phiN) == True and e != phiN:\n",
    "        validador = 1\n",
    "        \n",
    "        \n",
    "d = 0\n",
    "while(((e * d) % phiN) != 1):\n",
    "    d = random.randint(e - phiN , e + phiN)\n"
   ]
  },
  {
   "cell_type": "code",
   "execution_count": 25,
   "id": "2660ea1c",
   "metadata": {},
   "outputs": [],
   "source": [
    "def Criptografar(frase):\n",
    "    lista_saida = []\n",
    "    for caracter in frase:\n",
    "        C = (ord(caracter)**e) % N\n",
    "        lista_saida.append(C)\n",
    "    return lista_saida"
   ]
  },
  {
   "cell_type": "code",
   "execution_count": 15,
   "id": "bf72ee9a",
   "metadata": {},
   "outputs": [],
   "source": [
    "def Descriptografar(lista):\n",
    "    frase_saida = \"\"\n",
    "    for item in lista:\n",
    "        P = (item**d) % N\n",
    "        frase_saida = frase_saida + chr(int(P))\n",
    "    return frase_saida"
   ]
  },
  {
   "cell_type": "code",
   "execution_count": 27,
   "id": "1ca9202c",
   "metadata": {},
   "outputs": [
    {
     "data": {
      "text/plain": [
       "[528, 495, 183, 375, 29]"
      ]
     },
     "execution_count": 27,
     "metadata": {},
     "output_type": "execute_result"
    }
   ],
   "source": [
    "frase = \"blaus\"\n",
    "\n",
    "cripto = Criptografar(frase)\n",
    "cripto"
   ]
  },
  {
   "cell_type": "code",
   "execution_count": 28,
   "id": "528a7ceb",
   "metadata": {},
   "outputs": [
    {
     "data": {
      "text/plain": [
       "'blaus'"
      ]
     },
     "execution_count": 28,
     "metadata": {},
     "output_type": "execute_result"
    }
   ],
   "source": [
    "saida = Descriptografar(cripto)\n",
    "saida"
   ]
  },
  {
   "cell_type": "code",
   "execution_count": null,
   "id": "12fdad7b",
   "metadata": {},
   "outputs": [],
   "source": []
  }
 ],
 "metadata": {
  "kernelspec": {
   "display_name": "Python 3 (ipykernel)",
   "language": "python",
   "name": "python3"
  },
  "language_info": {
   "codemirror_mode": {
    "name": "ipython",
    "version": 3
   },
   "file_extension": ".py",
   "mimetype": "text/x-python",
   "name": "python",
   "nbconvert_exporter": "python",
   "pygments_lexer": "ipython3",
   "version": "3.9.13"
  }
 },
 "nbformat": 4,
 "nbformat_minor": 5
}
